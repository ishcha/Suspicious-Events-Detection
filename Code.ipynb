{
  "nbformat": 4,
  "nbformat_minor": 0,
  "metadata": {
    "colab": {
      "name": "SIV810.ipynb",
      "provenance": []
    },
    "kernelspec": {
      "name": "python3",
      "display_name": "Python 3"
    },
    "language_info": {
      "name": "python"
    }
  },
  "cells": [
    {
      "cell_type": "code",
      "metadata": {
        "id": "Atu3gL_uKU1S"
      },
      "source": [
        "import pandas as pd\n",
        "import numpy as np"
      ],
      "execution_count": null,
      "outputs": []
    },
    {
      "cell_type": "code",
      "metadata": {
        "colab": {
          "base_uri": "https://localhost:8080/"
        },
        "id": "iHLTDRUgKapu",
        "outputId": "7fafe5c8-6343-43b7-baa9-d4b472e2b02b"
      },
      "source": [
        "from google.colab import drive\n",
        "drive.mount('/content/gdrive')"
      ],
      "execution_count": null,
      "outputs": [
        {
          "output_type": "stream",
          "text": [
            "Mounted at /content/gdrive\n"
          ],
          "name": "stdout"
        }
      ]
    },
    {
      "cell_type": "code",
      "metadata": {
        "colab": {
          "base_uri": "https://localhost:8080/"
        },
        "id": "WTe_vKu1KiPD",
        "outputId": "7a13ae85-3b12-4192-c459-3cc88c11fd3e"
      },
      "source": [
        "!unzip gdrive/My\\ Drive/SIV/data.zip"
      ],
      "execution_count": null,
      "outputs": [
        {
          "output_type": "stream",
          "text": [
            "Archive:  gdrive/My Drive/SIV/data.zip\n",
            "  inflating: Project Data/column_descriptions.txt  \n",
            "   creating: Project Data/cybersecurity_test/\n",
            "  inflating: Project Data/cybersecurity_test/cybersecurity_test.csv  \n",
            "   creating: Project Data/cybersecurity_training/\n",
            "  inflating: Project Data/cybersecurity_training/cybersecurity_training.csv  \n",
            "  inflating: Project Data/InstructionsIITD.txt  \n",
            "   creating: Project Data/localized_alerts_data/\n",
            "  inflating: Project Data/localized_alerts_data/localized_alerts_data.csv  \n",
            "  inflating: Project Data/mergedTrainandLocal.csv  \n"
          ],
          "name": "stdout"
        }
      ]
    },
    {
      "cell_type": "code",
      "metadata": {
        "id": "0SvYkm5sKvcO"
      },
      "source": [
        "train = pd.read_csv(\"/content/Project Data/cybersecurity_training/cybersecurity_training.csv\", delimiter=\"|\", header=[0]) "
      ],
      "execution_count": null,
      "outputs": []
    },
    {
      "cell_type": "code",
      "metadata": {
        "colab": {
          "base_uri": "https://localhost:8080/"
        },
        "id": "iiEKxWqKKzkM",
        "outputId": "1137ab4c-a748-4c93-b7d0-5dcdf02905cc"
      },
      "source": [
        "print(train.shape)"
      ],
      "execution_count": null,
      "outputs": [
        {
          "output_type": "stream",
          "text": [
            "(39427, 63)\n"
          ],
          "name": "stdout"
        }
      ]
    },
    {
      "cell_type": "code",
      "metadata": {
        "colab": {
          "base_uri": "https://localhost:8080/"
        },
        "id": "-8iBg4k5G4rJ",
        "outputId": "fb35493b-d9b4-488e-ca33-1d8b98575948"
      },
      "source": [
        "train.info()"
      ],
      "execution_count": null,
      "outputs": [
        {
          "output_type": "stream",
          "text": [
            "<class 'pandas.core.frame.DataFrame'>\n",
            "RangeIndex: 39427 entries, 0 to 39426\n",
            "Data columns (total 63 columns):\n",
            " #   Column                    Non-Null Count  Dtype  \n",
            "---  ------                    --------------  -----  \n",
            " 0   alert_ids                 39427 non-null  object \n",
            " 1   client_code               39427 non-null  object \n",
            " 2   notified                  39427 non-null  int64  \n",
            " 3   categoryname              39427 non-null  object \n",
            " 4   ip                        39427 non-null  object \n",
            " 5   ipcategory_name           39427 non-null  object \n",
            " 6   ipcategory_scope          39427 non-null  object \n",
            " 7   parent_category           39427 non-null  int64  \n",
            " 8   grandparent_category      39427 non-null  object \n",
            " 9   overallseverity           39427 non-null  int64  \n",
            " 10  timestamp_dist            39427 non-null  int64  \n",
            " 11  start_hour                39427 non-null  int64  \n",
            " 12  start_minute              39427 non-null  int64  \n",
            " 13  start_second              39427 non-null  int64  \n",
            " 14  weekday                   39427 non-null  object \n",
            " 15  correlatedcount           39427 non-null  int64  \n",
            " 16  n1                        7132 non-null   float64\n",
            " 17  n2                        7132 non-null   float64\n",
            " 18  n3                        7132 non-null   float64\n",
            " 19  n4                        7132 non-null   float64\n",
            " 20  n5                        7132 non-null   float64\n",
            " 21  n6                        7132 non-null   float64\n",
            " 22  n7                        7132 non-null   float64\n",
            " 23  n8                        7132 non-null   float64\n",
            " 24  n9                        7132 non-null   float64\n",
            " 25  n10                       7132 non-null   float64\n",
            " 26  score                     7132 non-null   float64\n",
            " 27  srcip_cd                  39427 non-null  int64  \n",
            " 28  dstip_cd                  39427 non-null  int64  \n",
            " 29  srcport_cd                39427 non-null  int64  \n",
            " 30  dstport_cd                39427 non-null  int64  \n",
            " 31  alerttype_cd              39427 non-null  int64  \n",
            " 32  direction_cd              39427 non-null  int64  \n",
            " 33  eventname_cd              39427 non-null  int64  \n",
            " 34  severity_cd               39427 non-null  int64  \n",
            " 35  reportingdevice_cd        39427 non-null  int64  \n",
            " 36  devicetype_cd             39427 non-null  int64  \n",
            " 37  devicevendor_cd           39427 non-null  int64  \n",
            " 38  domain_cd                 39427 non-null  int64  \n",
            " 39  protocol_cd               39427 non-null  int64  \n",
            " 40  username_cd               39427 non-null  int64  \n",
            " 41  srcipcategory_cd          39427 non-null  int64  \n",
            " 42  dstipcategory_cd          39427 non-null  int64  \n",
            " 43  isiptrusted               39427 non-null  int64  \n",
            " 44  untrustscore              39427 non-null  int64  \n",
            " 45  flowscore                 39427 non-null  int64  \n",
            " 46  trustscore                39427 non-null  int64  \n",
            " 47  enforcementscore          39427 non-null  int64  \n",
            " 48  dstipcategory_dominate    39427 non-null  object \n",
            " 49  srcipcategory_dominate    39427 non-null  object \n",
            " 50  dstportcategory_dominate  39427 non-null  int64  \n",
            " 51  srcportcategory_dominate  39427 non-null  int64  \n",
            " 52  thrcnt_month              39427 non-null  int64  \n",
            " 53  thrcnt_week               39427 non-null  int64  \n",
            " 54  thrcnt_day                39427 non-null  int64  \n",
            " 55  p6                        39427 non-null  int64  \n",
            " 56  p9                        39427 non-null  int64  \n",
            " 57  p5m                       39427 non-null  int64  \n",
            " 58  p5w                       39427 non-null  int64  \n",
            " 59  p5d                       39427 non-null  int64  \n",
            " 60  p8m                       39427 non-null  int64  \n",
            " 61  p8w                       39427 non-null  int64  \n",
            " 62  p8d                       39427 non-null  int64  \n",
            "dtypes: float64(11), int64(42), object(10)\n",
            "memory usage: 19.0+ MB\n"
          ],
          "name": "stdout"
        }
      ]
    },
    {
      "cell_type": "code",
      "metadata": {
        "colab": {
          "base_uri": "https://localhost:8080/"
        },
        "id": "YXX3JVNkH_TQ",
        "outputId": "ea88b9b7-3faf-4558-e9d7-9bcd49288018"
      },
      "source": [
        "train['notified'].astype(bool).sum(axis=0)"
      ],
      "execution_count": null,
      "outputs": [
        {
          "output_type": "execute_result",
          "data": {
            "text/plain": [
              "2276"
            ]
          },
          "metadata": {
            "tags": []
          },
          "execution_count": 9
        }
      ]
    },
    {
      "cell_type": "code",
      "metadata": {
        "colab": {
          "base_uri": "https://localhost:8080/"
        },
        "id": "YACky8MjK7mK",
        "outputId": "d413cf35-e31d-48e6-ec15-bd751297059b"
      },
      "source": [
        "for col in train.columns:\n",
        "  if train[col].isna().sum()>0:\n",
        "    print(col, train[col].isna().sum())"
      ],
      "execution_count": null,
      "outputs": [
        {
          "output_type": "stream",
          "text": [
            "n1 32295\n",
            "n2 32295\n",
            "n3 32295\n",
            "n4 32295\n",
            "n5 32295\n",
            "n6 32295\n",
            "n7 32295\n",
            "n8 32295\n",
            "n9 32295\n",
            "n10 32295\n",
            "score 32295\n"
          ],
          "name": "stdout"
        }
      ]
    },
    {
      "cell_type": "code",
      "metadata": {
        "id": "EyD9EXg0LE5B"
      },
      "source": [
        "def fillmis(data):\n",
        "  for col in data.columns:\n",
        "    if data[col].isna().sum()>0:\n",
        "      data[col].fillna(0, inplace=True)\n",
        "  return data"
      ],
      "execution_count": null,
      "outputs": []
    },
    {
      "cell_type": "code",
      "metadata": {
        "id": "mnyxIhrDLHxy"
      },
      "source": [
        "train = fillmis(train)"
      ],
      "execution_count": null,
      "outputs": []
    },
    {
      "cell_type": "code",
      "metadata": {
        "id": "7URfZZBrLPzp"
      },
      "source": [
        "train[['ip1', 'ip2', 'ip3', 'ip4']] = train.ip.str.split(\".\", expand=True)"
      ],
      "execution_count": null,
      "outputs": []
    },
    {
      "cell_type": "code",
      "metadata": {
        "id": "R-m7eeM5LXoO"
      },
      "source": [
        "del train['ip']"
      ],
      "execution_count": null,
      "outputs": []
    },
    {
      "cell_type": "code",
      "metadata": {
        "colab": {
          "base_uri": "https://localhost:8080/",
          "height": 215
        },
        "id": "c6Goc6fBLacK",
        "outputId": "efadb6e5-8fc2-4e95-efcb-79b8f0e56237"
      },
      "source": [
        "train.head()"
      ],
      "execution_count": null,
      "outputs": [
        {
          "output_type": "execute_result",
          "data": {
            "text/html": [
              "<div>\n",
              "<style scoped>\n",
              "    .dataframe tbody tr th:only-of-type {\n",
              "        vertical-align: middle;\n",
              "    }\n",
              "\n",
              "    .dataframe tbody tr th {\n",
              "        vertical-align: top;\n",
              "    }\n",
              "\n",
              "    .dataframe thead th {\n",
              "        text-align: right;\n",
              "    }\n",
              "</style>\n",
              "<table border=\"1\" class=\"dataframe\">\n",
              "  <thead>\n",
              "    <tr style=\"text-align: right;\">\n",
              "      <th></th>\n",
              "      <th>alert_ids</th>\n",
              "      <th>client_code</th>\n",
              "      <th>notified</th>\n",
              "      <th>categoryname</th>\n",
              "      <th>ipcategory_name</th>\n",
              "      <th>ipcategory_scope</th>\n",
              "      <th>parent_category</th>\n",
              "      <th>grandparent_category</th>\n",
              "      <th>overallseverity</th>\n",
              "      <th>timestamp_dist</th>\n",
              "      <th>start_hour</th>\n",
              "      <th>start_minute</th>\n",
              "      <th>start_second</th>\n",
              "      <th>weekday</th>\n",
              "      <th>correlatedcount</th>\n",
              "      <th>n1</th>\n",
              "      <th>n2</th>\n",
              "      <th>n3</th>\n",
              "      <th>n4</th>\n",
              "      <th>n5</th>\n",
              "      <th>n6</th>\n",
              "      <th>n7</th>\n",
              "      <th>n8</th>\n",
              "      <th>n9</th>\n",
              "      <th>n10</th>\n",
              "      <th>score</th>\n",
              "      <th>srcip_cd</th>\n",
              "      <th>dstip_cd</th>\n",
              "      <th>srcport_cd</th>\n",
              "      <th>dstport_cd</th>\n",
              "      <th>alerttype_cd</th>\n",
              "      <th>direction_cd</th>\n",
              "      <th>eventname_cd</th>\n",
              "      <th>severity_cd</th>\n",
              "      <th>reportingdevice_cd</th>\n",
              "      <th>devicetype_cd</th>\n",
              "      <th>devicevendor_cd</th>\n",
              "      <th>domain_cd</th>\n",
              "      <th>protocol_cd</th>\n",
              "      <th>username_cd</th>\n",
              "      <th>srcipcategory_cd</th>\n",
              "      <th>dstipcategory_cd</th>\n",
              "      <th>isiptrusted</th>\n",
              "      <th>untrustscore</th>\n",
              "      <th>flowscore</th>\n",
              "      <th>trustscore</th>\n",
              "      <th>enforcementscore</th>\n",
              "      <th>dstipcategory_dominate</th>\n",
              "      <th>srcipcategory_dominate</th>\n",
              "      <th>dstportcategory_dominate</th>\n",
              "      <th>srcportcategory_dominate</th>\n",
              "      <th>thrcnt_month</th>\n",
              "      <th>thrcnt_week</th>\n",
              "      <th>thrcnt_day</th>\n",
              "      <th>p6</th>\n",
              "      <th>p9</th>\n",
              "      <th>p5m</th>\n",
              "      <th>p5w</th>\n",
              "      <th>p5d</th>\n",
              "      <th>p8m</th>\n",
              "      <th>p8w</th>\n",
              "      <th>p8d</th>\n",
              "      <th>ip1</th>\n",
              "      <th>ip2</th>\n",
              "      <th>ip3</th>\n",
              "      <th>ip4</th>\n",
              "    </tr>\n",
              "  </thead>\n",
              "  <tbody>\n",
              "    <tr>\n",
              "      <th>0</th>\n",
              "      <td>Nhq</td>\n",
              "      <td>DPM</td>\n",
              "      <td>0</td>\n",
              "      <td>Attack</td>\n",
              "      <td>INTERNET</td>\n",
              "      <td>Internet</td>\n",
              "      <td>7</td>\n",
              "      <td>A</td>\n",
              "      <td>3</td>\n",
              "      <td>65684</td>\n",
              "      <td>8</td>\n",
              "      <td>14</td>\n",
              "      <td>34</td>\n",
              "      <td>Tue</td>\n",
              "      <td>69</td>\n",
              "      <td>0.0</td>\n",
              "      <td>0.0</td>\n",
              "      <td>0.0</td>\n",
              "      <td>0.0</td>\n",
              "      <td>0.0</td>\n",
              "      <td>0.0</td>\n",
              "      <td>0.0</td>\n",
              "      <td>0.0</td>\n",
              "      <td>0.0</td>\n",
              "      <td>0.0</td>\n",
              "      <td>0.0</td>\n",
              "      <td>37</td>\n",
              "      <td>1</td>\n",
              "      <td>67</td>\n",
              "      <td>2</td>\n",
              "      <td>1</td>\n",
              "      <td>1</td>\n",
              "      <td>1</td>\n",
              "      <td>1</td>\n",
              "      <td>1</td>\n",
              "      <td>1</td>\n",
              "      <td>1</td>\n",
              "      <td>0</td>\n",
              "      <td>0</td>\n",
              "      <td>0</td>\n",
              "      <td>3</td>\n",
              "      <td>1</td>\n",
              "      <td>0</td>\n",
              "      <td>2</td>\n",
              "      <td>3</td>\n",
              "      <td>3</td>\n",
              "      <td>-1</td>\n",
              "      <td>INTERNET</td>\n",
              "      <td>PRIV-192</td>\n",
              "      <td>2</td>\n",
              "      <td>4</td>\n",
              "      <td>16711</td>\n",
              "      <td>4160</td>\n",
              "      <td>675</td>\n",
              "      <td>1</td>\n",
              "      <td>0</td>\n",
              "      <td>2</td>\n",
              "      <td>1</td>\n",
              "      <td>1</td>\n",
              "      <td>1</td>\n",
              "      <td>1</td>\n",
              "      <td>1</td>\n",
              "      <td>YT</td>\n",
              "      <td>LB</td>\n",
              "      <td>32</td>\n",
              "      <td>21</td>\n",
              "    </tr>\n",
              "    <tr>\n",
              "      <th>1</th>\n",
              "      <td>XZt</td>\n",
              "      <td>FIN</td>\n",
              "      <td>0</td>\n",
              "      <td>Exploit</td>\n",
              "      <td>PRIV-192</td>\n",
              "      <td>Private network</td>\n",
              "      <td>1</td>\n",
              "      <td>A</td>\n",
              "      <td>5</td>\n",
              "      <td>1188030</td>\n",
              "      <td>1</td>\n",
              "      <td>0</td>\n",
              "      <td>2</td>\n",
              "      <td>Thu</td>\n",
              "      <td>5302</td>\n",
              "      <td>0.0</td>\n",
              "      <td>0.0</td>\n",
              "      <td>0.0</td>\n",
              "      <td>0.0</td>\n",
              "      <td>0.0</td>\n",
              "      <td>0.0</td>\n",
              "      <td>0.0</td>\n",
              "      <td>0.0</td>\n",
              "      <td>0.0</td>\n",
              "      <td>0.0</td>\n",
              "      <td>0.0</td>\n",
              "      <td>1</td>\n",
              "      <td>46</td>\n",
              "      <td>4746</td>\n",
              "      <td>19</td>\n",
              "      <td>4</td>\n",
              "      <td>1</td>\n",
              "      <td>1</td>\n",
              "      <td>5</td>\n",
              "      <td>1</td>\n",
              "      <td>1</td>\n",
              "      <td>1</td>\n",
              "      <td>0</td>\n",
              "      <td>0</td>\n",
              "      <td>0</td>\n",
              "      <td>1</td>\n",
              "      <td>1</td>\n",
              "      <td>1</td>\n",
              "      <td>5</td>\n",
              "      <td>5</td>\n",
              "      <td>3</td>\n",
              "      <td>0</td>\n",
              "      <td>INTERNET</td>\n",
              "      <td>PRIV-192</td>\n",
              "      <td>2</td>\n",
              "      <td>3</td>\n",
              "      <td>15</td>\n",
              "      <td>9</td>\n",
              "      <td>2</td>\n",
              "      <td>4</td>\n",
              "      <td>12</td>\n",
              "      <td>3</td>\n",
              "      <td>2</td>\n",
              "      <td>2</td>\n",
              "      <td>2</td>\n",
              "      <td>1</td>\n",
              "      <td>1</td>\n",
              "      <td>192</td>\n",
              "      <td>SL</td>\n",
              "      <td>UK</td>\n",
              "      <td>94</td>\n",
              "    </tr>\n",
              "    <tr>\n",
              "      <th>2</th>\n",
              "      <td>bBz</td>\n",
              "      <td>CHP</td>\n",
              "      <td>0</td>\n",
              "      <td>Attack</td>\n",
              "      <td>INTERNET</td>\n",
              "      <td>Internet</td>\n",
              "      <td>7</td>\n",
              "      <td>A</td>\n",
              "      <td>4</td>\n",
              "      <td>43716</td>\n",
              "      <td>14</td>\n",
              "      <td>44</td>\n",
              "      <td>5</td>\n",
              "      <td>Tue</td>\n",
              "      <td>346</td>\n",
              "      <td>0.0</td>\n",
              "      <td>0.0</td>\n",
              "      <td>0.0</td>\n",
              "      <td>0.0</td>\n",
              "      <td>0.0</td>\n",
              "      <td>0.0</td>\n",
              "      <td>0.0</td>\n",
              "      <td>0.0</td>\n",
              "      <td>0.0</td>\n",
              "      <td>0.0</td>\n",
              "      <td>0.0</td>\n",
              "      <td>294</td>\n",
              "      <td>1</td>\n",
              "      <td>344</td>\n",
              "      <td>2</td>\n",
              "      <td>1</td>\n",
              "      <td>1</td>\n",
              "      <td>1</td>\n",
              "      <td>1</td>\n",
              "      <td>1</td>\n",
              "      <td>1</td>\n",
              "      <td>1</td>\n",
              "      <td>0</td>\n",
              "      <td>1</td>\n",
              "      <td>0</td>\n",
              "      <td>2</td>\n",
              "      <td>1</td>\n",
              "      <td>0</td>\n",
              "      <td>4</td>\n",
              "      <td>3</td>\n",
              "      <td>3</td>\n",
              "      <td>0</td>\n",
              "      <td>INTERNET</td>\n",
              "      <td>PRIV-10</td>\n",
              "      <td>2</td>\n",
              "      <td>4</td>\n",
              "      <td>7393</td>\n",
              "      <td>3788</td>\n",
              "      <td>628</td>\n",
              "      <td>1</td>\n",
              "      <td>0</td>\n",
              "      <td>2</td>\n",
              "      <td>2</td>\n",
              "      <td>1</td>\n",
              "      <td>2</td>\n",
              "      <td>2</td>\n",
              "      <td>1</td>\n",
              "      <td>YT</td>\n",
              "      <td>LB</td>\n",
              "      <td>38</td>\n",
              "      <td>21</td>\n",
              "    </tr>\n",
              "    <tr>\n",
              "      <th>3</th>\n",
              "      <td>ZNr</td>\n",
              "      <td>HPS</td>\n",
              "      <td>0</td>\n",
              "      <td>Attack</td>\n",
              "      <td>INTERNET</td>\n",
              "      <td>Internet</td>\n",
              "      <td>7</td>\n",
              "      <td>A</td>\n",
              "      <td>4</td>\n",
              "      <td>0</td>\n",
              "      <td>20</td>\n",
              "      <td>33</td>\n",
              "      <td>40</td>\n",
              "      <td>Tue</td>\n",
              "      <td>1</td>\n",
              "      <td>0.0</td>\n",
              "      <td>0.0</td>\n",
              "      <td>0.0</td>\n",
              "      <td>0.0</td>\n",
              "      <td>0.0</td>\n",
              "      <td>0.0</td>\n",
              "      <td>0.0</td>\n",
              "      <td>0.0</td>\n",
              "      <td>0.0</td>\n",
              "      <td>0.0</td>\n",
              "      <td>0.0</td>\n",
              "      <td>0</td>\n",
              "      <td>0</td>\n",
              "      <td>0</td>\n",
              "      <td>0</td>\n",
              "      <td>0</td>\n",
              "      <td>0</td>\n",
              "      <td>0</td>\n",
              "      <td>0</td>\n",
              "      <td>0</td>\n",
              "      <td>0</td>\n",
              "      <td>0</td>\n",
              "      <td>0</td>\n",
              "      <td>0</td>\n",
              "      <td>0</td>\n",
              "      <td>0</td>\n",
              "      <td>0</td>\n",
              "      <td>0</td>\n",
              "      <td>5</td>\n",
              "      <td>3</td>\n",
              "      <td>3</td>\n",
              "      <td>-1</td>\n",
              "      <td>INTERNET</td>\n",
              "      <td>INTERNET</td>\n",
              "      <td>0</td>\n",
              "      <td>0</td>\n",
              "      <td>2048</td>\n",
              "      <td>565</td>\n",
              "      <td>96</td>\n",
              "      <td>0</td>\n",
              "      <td>0</td>\n",
              "      <td>2</td>\n",
              "      <td>2</td>\n",
              "      <td>2</td>\n",
              "      <td>2</td>\n",
              "      <td>2</td>\n",
              "      <td>2</td>\n",
              "      <td>JX</td>\n",
              "      <td>NY</td>\n",
              "      <td>13</td>\n",
              "      <td>20</td>\n",
              "    </tr>\n",
              "    <tr>\n",
              "      <th>4</th>\n",
              "      <td>poV</td>\n",
              "      <td>OSC</td>\n",
              "      <td>0</td>\n",
              "      <td>Attack</td>\n",
              "      <td>INTERNET</td>\n",
              "      <td>Internet</td>\n",
              "      <td>7</td>\n",
              "      <td>A</td>\n",
              "      <td>4</td>\n",
              "      <td>2401</td>\n",
              "      <td>14</td>\n",
              "      <td>36</td>\n",
              "      <td>11</td>\n",
              "      <td>Sat</td>\n",
              "      <td>1</td>\n",
              "      <td>0.0</td>\n",
              "      <td>0.0</td>\n",
              "      <td>0.0</td>\n",
              "      <td>0.0</td>\n",
              "      <td>0.0</td>\n",
              "      <td>0.0</td>\n",
              "      <td>0.0</td>\n",
              "      <td>0.0</td>\n",
              "      <td>0.0</td>\n",
              "      <td>0.0</td>\n",
              "      <td>1.0</td>\n",
              "      <td>1</td>\n",
              "      <td>1</td>\n",
              "      <td>1</td>\n",
              "      <td>1</td>\n",
              "      <td>1</td>\n",
              "      <td>1</td>\n",
              "      <td>1</td>\n",
              "      <td>1</td>\n",
              "      <td>1</td>\n",
              "      <td>1</td>\n",
              "      <td>1</td>\n",
              "      <td>0</td>\n",
              "      <td>0</td>\n",
              "      <td>0</td>\n",
              "      <td>1</td>\n",
              "      <td>1</td>\n",
              "      <td>0</td>\n",
              "      <td>5</td>\n",
              "      <td>3</td>\n",
              "      <td>3</td>\n",
              "      <td>-1</td>\n",
              "      <td>INTERNET</td>\n",
              "      <td>PRIV-10</td>\n",
              "      <td>2</td>\n",
              "      <td>4</td>\n",
              "      <td>2793</td>\n",
              "      <td>2790</td>\n",
              "      <td>632</td>\n",
              "      <td>1</td>\n",
              "      <td>0</td>\n",
              "      <td>1</td>\n",
              "      <td>1</td>\n",
              "      <td>1</td>\n",
              "      <td>1</td>\n",
              "      <td>1</td>\n",
              "      <td>1</td>\n",
              "      <td>YT</td>\n",
              "      <td>LB</td>\n",
              "      <td>32</td>\n",
              "      <td>21</td>\n",
              "    </tr>\n",
              "  </tbody>\n",
              "</table>\n",
              "</div>"
            ],
            "text/plain": [
              "  alert_ids client_code  notified categoryname  ...  ip1 ip2  ip3 ip4\n",
              "0       Nhq         DPM         0       Attack  ...   YT  LB   32  21\n",
              "1       XZt         FIN         0      Exploit  ...  192  SL   UK  94\n",
              "2       bBz         CHP         0       Attack  ...   YT  LB   38  21\n",
              "3       ZNr         HPS         0       Attack  ...   JX  NY   13  20\n",
              "4       poV         OSC         0       Attack  ...   YT  LB   32  21\n",
              "\n",
              "[5 rows x 66 columns]"
            ]
          },
          "metadata": {
            "tags": []
          },
          "execution_count": 15
        }
      ]
    },
    {
      "cell_type": "code",
      "metadata": {
        "id": "UHHtdpx3ObpJ"
      },
      "source": [
        "def st_int(data, col):\n",
        "  f = [str(x).strip(\" \") for x in data[col].unique()]\n",
        "  d = {}\n",
        "  for x in f:\n",
        "    d[x] = len(d)\n",
        "  v = []\n",
        "  for x in data[col]:\n",
        "    x = str(x).strip(\" \")\n",
        "    v.append(d[x])\n",
        "  data[col + '_int'] = pd.Series(v, index = data.index)\n",
        "  return data"
      ],
      "execution_count": null,
      "outputs": []
    },
    {
      "cell_type": "code",
      "metadata": {
        "id": "3omgo-TfOdws"
      },
      "source": [
        "str_list = ['ip1', 'ip2', 'ip3', 'ip4', 'categoryname', 'ipcategory_name', 'ipcategory_scope', 'grandparent_category', 'weekday', 'dstipcategory_dominate', 'srcipcategory_dominate']\n",
        "columns_to_drop = []\n",
        "for col in str_list:\n",
        "  train = st_int(train, col)\n",
        "columns_to_drop += str_list"
      ],
      "execution_count": null,
      "outputs": []
    },
    {
      "cell_type": "code",
      "metadata": {
        "id": "Ls5G2ZfCOzqm"
      },
      "source": [
        "train = train.drop(columns_to_drop, axis=1)"
      ],
      "execution_count": null,
      "outputs": []
    },
    {
      "cell_type": "code",
      "metadata": {
        "colab": {
          "base_uri": "https://localhost:8080/"
        },
        "id": "GotCZ3aHPHyd",
        "outputId": "499bbe80-c8e8-4035-cc5b-b355e3a0fc7c"
      },
      "source": [
        "print(train.shape)"
      ],
      "execution_count": null,
      "outputs": [
        {
          "output_type": "stream",
          "text": [
            "(39427, 66)\n"
          ],
          "name": "stdout"
        }
      ]
    },
    {
      "cell_type": "code",
      "metadata": {
        "colab": {
          "base_uri": "https://localhost:8080/"
        },
        "id": "gI6KCF_aPQao",
        "outputId": "dfddd30f-95f4-4933-b789-7a058e6f7c07"
      },
      "source": [
        "train.info()"
      ],
      "execution_count": null,
      "outputs": [
        {
          "output_type": "stream",
          "text": [
            "<class 'pandas.core.frame.DataFrame'>\n",
            "RangeIndex: 39427 entries, 0 to 39426\n",
            "Data columns (total 66 columns):\n",
            " #   Column                      Non-Null Count  Dtype  \n",
            "---  ------                      --------------  -----  \n",
            " 0   alert_ids                   39427 non-null  object \n",
            " 1   client_code                 39427 non-null  object \n",
            " 2   notified                    39427 non-null  int64  \n",
            " 3   parent_category             39427 non-null  int64  \n",
            " 4   overallseverity             39427 non-null  int64  \n",
            " 5   timestamp_dist              39427 non-null  int64  \n",
            " 6   start_hour                  39427 non-null  int64  \n",
            " 7   start_minute                39427 non-null  int64  \n",
            " 8   start_second                39427 non-null  int64  \n",
            " 9   correlatedcount             39427 non-null  int64  \n",
            " 10  n1                          39427 non-null  float64\n",
            " 11  n2                          39427 non-null  float64\n",
            " 12  n3                          39427 non-null  float64\n",
            " 13  n4                          39427 non-null  float64\n",
            " 14  n5                          39427 non-null  float64\n",
            " 15  n6                          39427 non-null  float64\n",
            " 16  n7                          39427 non-null  float64\n",
            " 17  n8                          39427 non-null  float64\n",
            " 18  n9                          39427 non-null  float64\n",
            " 19  n10                         39427 non-null  float64\n",
            " 20  score                       39427 non-null  float64\n",
            " 21  srcip_cd                    39427 non-null  int64  \n",
            " 22  dstip_cd                    39427 non-null  int64  \n",
            " 23  srcport_cd                  39427 non-null  int64  \n",
            " 24  dstport_cd                  39427 non-null  int64  \n",
            " 25  alerttype_cd                39427 non-null  int64  \n",
            " 26  direction_cd                39427 non-null  int64  \n",
            " 27  eventname_cd                39427 non-null  int64  \n",
            " 28  severity_cd                 39427 non-null  int64  \n",
            " 29  reportingdevice_cd          39427 non-null  int64  \n",
            " 30  devicetype_cd               39427 non-null  int64  \n",
            " 31  devicevendor_cd             39427 non-null  int64  \n",
            " 32  domain_cd                   39427 non-null  int64  \n",
            " 33  protocol_cd                 39427 non-null  int64  \n",
            " 34  username_cd                 39427 non-null  int64  \n",
            " 35  srcipcategory_cd            39427 non-null  int64  \n",
            " 36  dstipcategory_cd            39427 non-null  int64  \n",
            " 37  isiptrusted                 39427 non-null  int64  \n",
            " 38  untrustscore                39427 non-null  int64  \n",
            " 39  flowscore                   39427 non-null  int64  \n",
            " 40  trustscore                  39427 non-null  int64  \n",
            " 41  enforcementscore            39427 non-null  int64  \n",
            " 42  dstportcategory_dominate    39427 non-null  int64  \n",
            " 43  srcportcategory_dominate    39427 non-null  int64  \n",
            " 44  thrcnt_month                39427 non-null  int64  \n",
            " 45  thrcnt_week                 39427 non-null  int64  \n",
            " 46  thrcnt_day                  39427 non-null  int64  \n",
            " 47  p6                          39427 non-null  int64  \n",
            " 48  p9                          39427 non-null  int64  \n",
            " 49  p5m                         39427 non-null  int64  \n",
            " 50  p5w                         39427 non-null  int64  \n",
            " 51  p5d                         39427 non-null  int64  \n",
            " 52  p8m                         39427 non-null  int64  \n",
            " 53  p8w                         39427 non-null  int64  \n",
            " 54  p8d                         39427 non-null  int64  \n",
            " 55  ip1_int                     39427 non-null  int64  \n",
            " 56  ip2_int                     39427 non-null  int64  \n",
            " 57  ip3_int                     39427 non-null  int64  \n",
            " 58  ip4_int                     39427 non-null  int64  \n",
            " 59  categoryname_int            39427 non-null  int64  \n",
            " 60  ipcategory_name_int         39427 non-null  int64  \n",
            " 61  ipcategory_scope_int        39427 non-null  int64  \n",
            " 62  grandparent_category_int    39427 non-null  int64  \n",
            " 63  weekday_int                 39427 non-null  int64  \n",
            " 64  dstipcategory_dominate_int  39427 non-null  int64  \n",
            " 65  srcipcategory_dominate_int  39427 non-null  int64  \n",
            "dtypes: float64(11), int64(53), object(2)\n",
            "memory usage: 19.9+ MB\n"
          ],
          "name": "stdout"
        }
      ]
    },
    {
      "cell_type": "code",
      "metadata": {
        "id": "TsNMOK50PZ4U"
      },
      "source": [
        "## dropping alert_ids, client_code\n",
        "train = train.drop(['alert_ids', 'client_code'], axis=1)"
      ],
      "execution_count": null,
      "outputs": []
    },
    {
      "cell_type": "code",
      "metadata": {
        "colab": {
          "base_uri": "https://localhost:8080/"
        },
        "id": "TC6_osufQECq",
        "outputId": "df3a0ebe-b68a-48dd-e467-766b0d145080"
      },
      "source": [
        "print(train.shape)"
      ],
      "execution_count": null,
      "outputs": [
        {
          "output_type": "stream",
          "text": [
            "(39427, 64)\n"
          ],
          "name": "stdout"
        }
      ]
    },
    {
      "cell_type": "code",
      "metadata": {
        "id": "i7xxjcQASjSL"
      },
      "source": [
        "from sklearn.model_selection import train_test_split\n"
      ],
      "execution_count": null,
      "outputs": []
    },
    {
      "cell_type": "code",
      "metadata": {
        "id": "LWQ6csNTQepx"
      },
      "source": [
        "X = train.drop(['notified'], axis=1)\n",
        "y = train['notified']"
      ],
      "execution_count": null,
      "outputs": []
    },
    {
      "cell_type": "code",
      "metadata": {
        "colab": {
          "base_uri": "https://localhost:8080/"
        },
        "id": "lDUBNhBNTwtK",
        "outputId": "1b9cd7db-704c-4143-fb6b-50f53d4b7807"
      },
      "source": [
        "print(X.shape, y.shape)"
      ],
      "execution_count": null,
      "outputs": [
        {
          "output_type": "stream",
          "text": [
            "(39427, 63) (39427,)\n"
          ],
          "name": "stdout"
        }
      ]
    },
    {
      "cell_type": "code",
      "metadata": {
        "id": "noZlBfBsSGyZ"
      },
      "source": [
        "X_train, X_test, y_train, y_test = train_test_split(X, y, test_size = 0.3, random_state = 1011)"
      ],
      "execution_count": null,
      "outputs": []
    },
    {
      "cell_type": "code",
      "metadata": {
        "colab": {
          "base_uri": "https://localhost:8080/"
        },
        "id": "EclE9c-KTMTE",
        "outputId": "a01d051b-a757-42b1-8ee9-bc070522c324"
      },
      "source": [
        "print(X_train.shape, X_test.shape, y_train.shape, y_test.shape)"
      ],
      "execution_count": null,
      "outputs": [
        {
          "output_type": "stream",
          "text": [
            "(27598, 63) (11829, 63) (27598,) (11829,)\n"
          ],
          "name": "stdout"
        }
      ]
    },
    {
      "cell_type": "code",
      "metadata": {
        "id": "AKipJw8uQQHa"
      },
      "source": [
        "from sklearn.preprocessing import StandardScaler"
      ],
      "execution_count": null,
      "outputs": []
    },
    {
      "cell_type": "code",
      "metadata": {
        "id": "s9tJhDFhQbo9"
      },
      "source": [
        "ssc = StandardScaler()\n",
        "X_train = ssc.fit_transform(X_train)\n",
        "X_test = ssc.transform(X_test)"
      ],
      "execution_count": null,
      "outputs": []
    },
    {
      "cell_type": "markdown",
      "metadata": {
        "id": "FhsMQW9xRR5W"
      },
      "source": [
        "## SVM classifier"
      ]
    },
    {
      "cell_type": "code",
      "metadata": {
        "id": "27HBgKfDRPAu"
      },
      "source": [
        "from sklearn.svm import SVC\n",
        "from sklearn import svm"
      ],
      "execution_count": null,
      "outputs": []
    },
    {
      "cell_type": "code",
      "metadata": {
        "id": "QoJ5hXJyUS1Z"
      },
      "source": [
        "from sklearn import metrics\n",
        "from sklearn.metrics import classification_report, confusion_matrix"
      ],
      "execution_count": null,
      "outputs": []
    },
    {
      "cell_type": "code",
      "metadata": {
        "colab": {
          "base_uri": "https://localhost:8080/"
        },
        "id": "8efm0X4sRbjA",
        "outputId": "2ed8d418-6a37-4d52-ae4b-623febdb6003"
      },
      "source": [
        "svm_class = svm.SVC(probability=True)\n",
        "svm_class.fit(X_train, y_train)\n",
        "pred_sv = svm_class.predict(X_test)\n",
        "print(metrics.precision_recall_fscore_support(y_test, pred_sv))\n",
        "# pred_sv = svm_class.predict(X_test)\n",
        "# print(classification_report(y_test, pred))\n",
        "# print(confusion_matrix(y_test, pred))"
      ],
      "execution_count": null,
      "outputs": [
        {
          "output_type": "stream",
          "text": [
            "(array([0.94139039, 0.8       ]), array([0.99991017, 0.00573888]), array([0.96976825, 0.01139601]), array([11132,   697]))\n"
          ],
          "name": "stdout"
        }
      ]
    },
    {
      "cell_type": "code",
      "metadata": {
        "colab": {
          "base_uri": "https://localhost:8080/"
        },
        "id": "jDuWT8FIaBoa",
        "outputId": "83026881-e6eb-44fb-d2ef-af2c6ea82098"
      },
      "source": [
        "pred_sv_1 = svm_class.predict_proba(X_test)\n",
        "auc_svm = metrics.roc_auc_score(y_test, pred_sv_1[:,1])\n",
        "print(auc_svm)"
      ],
      "execution_count": null,
      "outputs": [
        {
          "output_type": "stream",
          "text": [
            "0.7776699818688069\n"
          ],
          "name": "stdout"
        }
      ]
    },
    {
      "cell_type": "markdown",
      "metadata": {
        "id": "cwGM-g4mYQwL"
      },
      "source": [
        "## KNN"
      ]
    },
    {
      "cell_type": "code",
      "metadata": {
        "id": "du1KyTAMteyo"
      },
      "source": [
        "from sklearn.neighbors import KNeighborsClassifier"
      ],
      "execution_count": null,
      "outputs": []
    },
    {
      "cell_type": "code",
      "metadata": {
        "colab": {
          "base_uri": "https://localhost:8080/"
        },
        "id": "M_O6pIFbYOkN",
        "outputId": "b3eab228-6fb1-42f6-e728-6dfed9b1bcdc"
      },
      "source": [
        "\n",
        "knn = KNeighborsClassifier(n_neighbors=20)\n",
        "knn.fit(X_train, y_train)\n",
        "pred_kn = knn.predict(X_test)\n",
        "print(metrics.precision_recall_fscore_support(y_test, pred_kn))"
      ],
      "execution_count": null,
      "outputs": [
        {
          "output_type": "stream",
          "text": [
            "(array([0.94206336, 0.56521739]), array([0.99910169, 0.01865136]), array([0.96974453, 0.03611111]), array([11132,   697]))\n"
          ],
          "name": "stdout"
        }
      ]
    },
    {
      "cell_type": "code",
      "metadata": {
        "colab": {
          "base_uri": "https://localhost:8080/"
        },
        "id": "lJI5ebT6YlbZ",
        "outputId": "8797472a-5bb7-4bf5-e381-234eb6917e0a"
      },
      "source": [
        "pred_knn = knn.predict_proba(X_test)\n",
        "auc_k = metrics.roc_auc_score(y_test, pred_knn[:,1])"
      ],
      "execution_count": null,
      "outputs": [
        {
          "output_type": "execute_result",
          "data": {
            "text/plain": [
              "0.8003679338224339"
            ]
          },
          "metadata": {
            "tags": []
          },
          "execution_count": 32
        }
      ]
    },
    {
      "cell_type": "code",
      "metadata": {
        "id": "Qm6c8G58PT3f"
      },
      "source": [
        "import matplotlib.pyplot as plt\n"
      ],
      "execution_count": null,
      "outputs": []
    },
    {
      "cell_type": "code",
      "metadata": {
        "colab": {
          "base_uri": "https://localhost:8080/"
        },
        "id": "v_EfMKjKOmRI",
        "outputId": "7623ac69-ace9-454c-c89c-3dd60624f303"
      },
      "source": [
        "auc_knn = []\n",
        "for i in range(1, 21):\n",
        "  print(\"Number of Neighbors: \", i)\n",
        "  knn = KNeighborsClassifier(n_neighbors=i)\n",
        "  knn.fit(X_train, y_train)\n",
        "  pred_knn_i = knn.predict_proba(X_test)\n",
        "  auc_knn.append(metrics.roc_auc_score(y_test, pred_knn_i[:,1]))\n",
        "\n"
      ],
      "execution_count": null,
      "outputs": [
        {
          "output_type": "stream",
          "text": [
            "Number of Neighbors:  1\n",
            "Number of Neighbors:  2\n",
            "Number of Neighbors:  3\n",
            "Number of Neighbors:  4\n",
            "Number of Neighbors:  5\n",
            "Number of Neighbors:  6\n",
            "Number of Neighbors:  7\n",
            "Number of Neighbors:  8\n",
            "Number of Neighbors:  9\n",
            "Number of Neighbors:  10\n",
            "Number of Neighbors:  11\n",
            "Number of Neighbors:  12\n",
            "Number of Neighbors:  13\n",
            "Number of Neighbors:  14\n",
            "Number of Neighbors:  15\n",
            "Number of Neighbors:  16\n",
            "Number of Neighbors:  17\n",
            "Number of Neighbors:  18\n",
            "Number of Neighbors:  19\n",
            "Number of Neighbors:  20\n"
          ],
          "name": "stdout"
        }
      ]
    },
    {
      "cell_type": "code",
      "metadata": {
        "colab": {
          "base_uri": "https://localhost:8080/",
          "height": 530
        },
        "id": "oIXKCGwXPsZM",
        "outputId": "912458b5-1012-4f9b-a6dc-8917b5c1d3c3"
      },
      "source": [
        "plt.figure(figsize=(10, 8))\n",
        "plt.plot(range(1, 21), auc_knn, linestyle = 'dashed', color = 'k', marker = 'o', markerfacecolor = 'r', markersize = 10)\n",
        "plt.xlabel('Number of Nearest Neighbors')\n",
        "plt.ylabel('AUC')\n",
        "plt.title('AUC vs Number of Nearest Neighbors')"
      ],
      "execution_count": null,
      "outputs": [
        {
          "output_type": "execute_result",
          "data": {
            "text/plain": [
              "Text(0.5, 1.0, 'AUC vs Number of Nearest Neighbors')"
            ]
          },
          "metadata": {
            "tags": []
          },
          "execution_count": 37
        },
        {
          "output_type": "display_data",
          "data": {
            "image/png": "[encoded data removed]",
            "text/plain": [
              "<Figure size 720x576 with 1 Axes>"
            ]
          },
          "metadata": {
            "tags": [],
            "needs_background": "light"
          }
        }
      ]
    },
    {
      "cell_type": "code",
      "metadata": {
        "colab": {
          "base_uri": "https://localhost:8080/"
        },
        "id": "Gc3QhQxusXAD",
        "outputId": "c6d6c43a-168d-4258-ffb8-65dfefd2cd2d"
      },
      "source": [
        "print(max(auc_knn), auc_knn.index(max(auc_knn)))"
      ],
      "execution_count": null,
      "outputs": [
        {
          "output_type": "stream",
          "text": [
            "0.8063686395831218 19\n"
          ],
          "name": "stdout"
        }
      ]
    },
    {
      "cell_type": "code",
      "metadata": {
        "id": "dtxWvFxa_rzT"
      },
      "source": [
        "auc_k =  max(auc_knn)"
      ],
      "execution_count": null,
      "outputs": []
    },
    {
      "cell_type": "markdown",
      "metadata": {
        "id": "FifswaKWUnzj"
      },
      "source": [
        "### Random Forest Classifier"
      ]
    },
    {
      "cell_type": "code",
      "metadata": {
        "id": "BDfLOJjTUj49"
      },
      "source": [
        "from sklearn.ensemble import RandomForestClassifier"
      ],
      "execution_count": null,
      "outputs": []
    },
    {
      "cell_type": "code",
      "metadata": {
        "colab": {
          "base_uri": "https://localhost:8080/"
        },
        "id": "JyLgCaPpWPHk",
        "outputId": "7c42cb57-1d27-459d-acae-ffd593b6bf2a"
      },
      "source": [
        "rf = RandomForestClassifier(n_estimators=950)\n",
        "rf.fit(X_train, y_train)\n",
        "pred_rf = rf.predict(X_test)\n",
        "print(metrics.precision_recall_fscore_support(y_test, pred_rf))\n",
        "# print(classification_report(y_test, pred_rf))\n",
        "# print(confusion_matrix(y_test, pred_rf))"
      ],
      "execution_count": null,
      "outputs": [
        {
          "output_type": "stream",
          "text": [
            "(array([0.94734151, 0.84946237]), array([0.99874236, 0.1133429 ]), array([0.97236313, 0.2       ]), array([11132,   697]))\n"
          ],
          "name": "stdout"
        }
      ]
    },
    {
      "cell_type": "code",
      "metadata": {
        "colab": {
          "base_uri": "https://localhost:8080/"
        },
        "id": "cI-CmfQ2XDFv",
        "outputId": "62390db3-d5c7-49fa-9448-1911a2f0f8d6"
      },
      "source": [
        "auc_r = []\n",
        "for i in range(100, 1001, 50):\n",
        "  print(\"Number of Estimators: \", i)\n",
        "  rf1 = RandomForestClassifier(n_estimators=i)\n",
        "  rf1.fit(X_train, y_train)\n",
        "  pred_rf_i = rf1.predict_proba(X_test)\n",
        "  auc_r.append(metrics.roc_auc_score(y_test, pred_rf_i[:,1]))\n"
      ],
      "execution_count": null,
      "outputs": [
        {
          "output_type": "stream",
          "text": [
            "Number of Estimators:  100\n",
            "Number of Estimators:  150\n",
            "Number of Estimators:  200\n",
            "Number of Estimators:  250\n",
            "Number of Estimators:  300\n",
            "Number of Estimators:  350\n",
            "Number of Estimators:  400\n",
            "Number of Estimators:  450\n",
            "Number of Estimators:  500\n",
            "Number of Estimators:  550\n",
            "Number of Estimators:  600\n",
            "Number of Estimators:  650\n",
            "Number of Estimators:  700\n",
            "Number of Estimators:  750\n",
            "Number of Estimators:  800\n",
            "Number of Estimators:  850\n",
            "Number of Estimators:  900\n",
            "Number of Estimators:  950\n",
            "Number of Estimators:  1000\n"
          ],
          "name": "stdout"
        }
      ]
    },
    {
      "cell_type": "code",
      "metadata": {
        "colab": {
          "base_uri": "https://localhost:8080/",
          "height": 530
        },
        "id": "W2jXEbkuXydx",
        "outputId": "69e44f41-aaac-47cc-9707-114df47b7428"
      },
      "source": [
        "plt.figure(figsize=(10, 8))\n",
        "plt.plot(range(100, 1001, 50), auc_r, linestyle = 'dashed', color = 'k', marker = 'o', markerfacecolor = 'r', markersize = 10)\n",
        "plt.xlabel('Number of Esimators')\n",
        "plt.ylabel('AUC')\n",
        "plt.title('AUC vs Number of Estimators')"
      ],
      "execution_count": null,
      "outputs": [
        {
          "output_type": "execute_result",
          "data": {
            "text/plain": [
              "Text(0.5, 1.0, 'AUC vs Number of Estimators')"
            ]
          },
          "metadata": {
            "tags": []
          },
          "execution_count": 44
        },
        {
          "output_type": "display_data",
          "data": {
            "image/png": "[encoded data removed]",
            "text/plain": [
              "<Figure size 720x576 with 1 Axes>"
            ]
          },
          "metadata": {
            "tags": [],
            "needs_background": "light"
          }
        }
      ]
    },
    {
      "cell_type": "code",
      "metadata": {
        "colab": {
          "base_uri": "https://localhost:8080/"
        },
        "id": "uBbHb6ud0oyJ",
        "outputId": "bffca7a3-0a8a-4f13-e0e4-921ae7f30cd8"
      },
      "source": [
        "print(max(auc_r), auc_r.index(max(auc_r)))"
      ],
      "execution_count": null,
      "outputs": [
        {
          "output_type": "stream",
          "text": [
            "0.9184783897520867 17\n"
          ],
          "name": "stdout"
        }
      ]
    },
    {
      "cell_type": "code",
      "metadata": {
        "colab": {
          "base_uri": "https://localhost:8080/"
        },
        "id": "QUY-KAz403E6",
        "outputId": "9cd172c9-7e26-41f0-9395-ae663fb44a18"
      },
      "source": [
        "print(len(auc_r))"
      ],
      "execution_count": null,
      "outputs": [
        {
          "output_type": "stream",
          "text": [
            "19\n"
          ],
          "name": "stdout"
        }
      ]
    },
    {
      "cell_type": "code",
      "metadata": {
        "id": "jMb6ok3f_joS"
      },
      "source": [
        "auc_rf = max(auc_r)"
      ],
      "execution_count": null,
      "outputs": []
    },
    {
      "cell_type": "markdown",
      "metadata": {
        "id": "-G5hsOwsc_GM"
      },
      "source": [
        "## Naive Bayes"
      ]
    },
    {
      "cell_type": "code",
      "metadata": {
        "colab": {
          "base_uri": "https://localhost:8080/"
        },
        "id": "c0wP8JHOdBfT",
        "outputId": "3f759942-c40d-4ace-9da1-963c13a84e8f"
      },
      "source": [
        "from sklearn.naive_bayes import GaussianNB\n",
        "nb = GaussianNB()\n",
        "nb.fit(X_train, y_train)"
      ],
      "execution_count": null,
      "outputs": [
        {
          "output_type": "execute_result",
          "data": {
            "text/plain": [
              "GaussianNB(priors=None, var_smoothing=1e-09)"
            ]
          },
          "metadata": {
            "tags": []
          },
          "execution_count": 54
        }
      ]
    },
    {
      "cell_type": "code",
      "metadata": {
        "id": "4XwQrIn9dQuC"
      },
      "source": [
        "pred_nb = nb.predict_proba(X_test)\n",
        "auc_nb = metrics.roc_auc_score(y_test, pred_nb[:,1])"
      ],
      "execution_count": null,
      "outputs": []
    },
    {
      "cell_type": "code",
      "metadata": {
        "colab": {
          "base_uri": "https://localhost:8080/"
        },
        "id": "5oAaSyN-6hPH",
        "outputId": "71caf0cf-2cb9-4e18-f0d9-5bb3d317fe6b"
      },
      "source": [
        "print(auc_nb)"
      ],
      "execution_count": null,
      "outputs": [
        {
          "output_type": "stream",
          "text": [
            "0.7753276709227113\n"
          ],
          "name": "stdout"
        }
      ]
    },
    {
      "cell_type": "code",
      "metadata": {
        "colab": {
          "base_uri": "https://localhost:8080/"
        },
        "id": "16YRkNgx6Sfk",
        "outputId": "be234bab-d232-4a5b-8f11-d5aed8b52e53"
      },
      "source": [
        "pred_nb1 = nb.predict(X_test)\n",
        "print(metrics.precision_recall_fscore_support(y_test, pred_nb1))"
      ],
      "execution_count": null,
      "outputs": [
        {
          "output_type": "stream",
          "text": [
            "(array([0.99193382, 0.09408064]), array([0.43083004, 0.94404591]), array([0.60073902, 0.17110909]), array([11132,   697]))\n"
          ],
          "name": "stdout"
        }
      ]
    },
    {
      "cell_type": "markdown",
      "metadata": {
        "id": "sVo5fnqhcxIq"
      },
      "source": [
        "## Neural Network"
      ]
    },
    {
      "cell_type": "markdown",
      "metadata": {
        "id": "Wbh7R8QYerK9"
      },
      "source": [
        "### Grid Search Cross Validation"
      ]
    },
    {
      "cell_type": "code",
      "metadata": {
        "id": "5oft7L6ueXP4"
      },
      "source": [
        "from sklearn.model_selection import GridSearchCV\n",
        "from sklearn.neural_network import MLPClassifier"
      ],
      "execution_count": null,
      "outputs": []
    },
    {
      "cell_type": "code",
      "metadata": {
        "colab": {
          "base_uri": "https://localhost:8080/"
        },
        "id": "Cbt9kX_dcwLj",
        "outputId": "6a45bba8-4e42-4770-9965-61e8aa0f72c9"
      },
      "source": [
        "params = {\n",
        "    'hidden_layer_sizes': [(50, 25, 2), (50, 50, 2)],\n",
        "    'activation': ['relu', 'logistic'],\n",
        "\n",
        "    'alpha': [1e-5, 1e-3],\n",
        "\n",
        "}\n",
        "nn = MLPClassifier(random_state=1, max_iter=100, solver = 'adam')\n",
        "cv = GridSearchCV(nn, params, cv = 3, scoring='roc_auc')\n",
        "best = cv.fit(X_train, y_train)"
      ],
      "execution_count": null,
      "outputs": [
        {
          "output_type": "stream",
          "text": [
            "/usr/local/lib/python3.7/dist-packages/sklearn/neural_network/_multilayer_perceptron.py:571: ConvergenceWarning: Stochastic Optimizer: Maximum iterations (100) reached and the optimization hasn't converged yet.\n",
            "  % self.max_iter, ConvergenceWarning)\n",
            "/usr/local/lib/python3.7/dist-packages/sklearn/neural_network/_multilayer_perceptron.py:571: ConvergenceWarning: Stochastic Optimizer: Maximum iterations (100) reached and the optimization hasn't converged yet.\n",
            "  % self.max_iter, ConvergenceWarning)\n",
            "/usr/local/lib/python3.7/dist-packages/sklearn/neural_network/_multilayer_perceptron.py:571: ConvergenceWarning: Stochastic Optimizer: Maximum iterations (100) reached and the optimization hasn't converged yet.\n",
            "  % self.max_iter, ConvergenceWarning)\n",
            "/usr/local/lib/python3.7/dist-packages/sklearn/neural_network/_multilayer_perceptron.py:571: ConvergenceWarning: Stochastic Optimizer: Maximum iterations (100) reached and the optimization hasn't converged yet.\n",
            "  % self.max_iter, ConvergenceWarning)\n",
            "/usr/local/lib/python3.7/dist-packages/sklearn/neural_network/_multilayer_perceptron.py:571: ConvergenceWarning: Stochastic Optimizer: Maximum iterations (100) reached and the optimization hasn't converged yet.\n",
            "  % self.max_iter, ConvergenceWarning)\n",
            "/usr/local/lib/python3.7/dist-packages/sklearn/neural_network/_multilayer_perceptron.py:571: ConvergenceWarning: Stochastic Optimizer: Maximum iterations (100) reached and the optimization hasn't converged yet.\n",
            "  % self.max_iter, ConvergenceWarning)\n",
            "/usr/local/lib/python3.7/dist-packages/sklearn/neural_network/_multilayer_perceptron.py:571: ConvergenceWarning: Stochastic Optimizer: Maximum iterations (100) reached and the optimization hasn't converged yet.\n",
            "  % self.max_iter, ConvergenceWarning)\n",
            "/usr/local/lib/python3.7/dist-packages/sklearn/neural_network/_multilayer_perceptron.py:571: ConvergenceWarning: Stochastic Optimizer: Maximum iterations (100) reached and the optimization hasn't converged yet.\n",
            "  % self.max_iter, ConvergenceWarning)\n",
            "/usr/local/lib/python3.7/dist-packages/sklearn/neural_network/_multilayer_perceptron.py:571: ConvergenceWarning: Stochastic Optimizer: Maximum iterations (100) reached and the optimization hasn't converged yet.\n",
            "  % self.max_iter, ConvergenceWarning)\n",
            "/usr/local/lib/python3.7/dist-packages/sklearn/neural_network/_multilayer_perceptron.py:571: ConvergenceWarning: Stochastic Optimizer: Maximum iterations (100) reached and the optimization hasn't converged yet.\n",
            "  % self.max_iter, ConvergenceWarning)\n",
            "/usr/local/lib/python3.7/dist-packages/sklearn/neural_network/_multilayer_perceptron.py:571: ConvergenceWarning: Stochastic Optimizer: Maximum iterations (100) reached and the optimization hasn't converged yet.\n",
            "  % self.max_iter, ConvergenceWarning)\n",
            "/usr/local/lib/python3.7/dist-packages/sklearn/neural_network/_multilayer_perceptron.py:571: ConvergenceWarning: Stochastic Optimizer: Maximum iterations (100) reached and the optimization hasn't converged yet.\n",
            "  % self.max_iter, ConvergenceWarning)\n",
            "/usr/local/lib/python3.7/dist-packages/sklearn/neural_network/_multilayer_perceptron.py:571: ConvergenceWarning: Stochastic Optimizer: Maximum iterations (100) reached and the optimization hasn't converged yet.\n",
            "  % self.max_iter, ConvergenceWarning)\n",
            "/usr/local/lib/python3.7/dist-packages/sklearn/neural_network/_multilayer_perceptron.py:571: ConvergenceWarning: Stochastic Optimizer: Maximum iterations (100) reached and the optimization hasn't converged yet.\n",
            "  % self.max_iter, ConvergenceWarning)\n",
            "/usr/local/lib/python3.7/dist-packages/sklearn/neural_network/_multilayer_perceptron.py:571: ConvergenceWarning: Stochastic Optimizer: Maximum iterations (100) reached and the optimization hasn't converged yet.\n",
            "  % self.max_iter, ConvergenceWarning)\n",
            "/usr/local/lib/python3.7/dist-packages/sklearn/neural_network/_multilayer_perceptron.py:571: ConvergenceWarning: Stochastic Optimizer: Maximum iterations (100) reached and the optimization hasn't converged yet.\n",
            "  % self.max_iter, ConvergenceWarning)\n",
            "/usr/local/lib/python3.7/dist-packages/sklearn/neural_network/_multilayer_perceptron.py:571: ConvergenceWarning: Stochastic Optimizer: Maximum iterations (100) reached and the optimization hasn't converged yet.\n",
            "  % self.max_iter, ConvergenceWarning)\n",
            "/usr/local/lib/python3.7/dist-packages/sklearn/neural_network/_multilayer_perceptron.py:571: ConvergenceWarning: Stochastic Optimizer: Maximum iterations (100) reached and the optimization hasn't converged yet.\n",
            "  % self.max_iter, ConvergenceWarning)\n",
            "/usr/local/lib/python3.7/dist-packages/sklearn/neural_network/_multilayer_perceptron.py:571: ConvergenceWarning: Stochastic Optimizer: Maximum iterations (100) reached and the optimization hasn't converged yet.\n",
            "  % self.max_iter, ConvergenceWarning)\n",
            "/usr/local/lib/python3.7/dist-packages/sklearn/neural_network/_multilayer_perceptron.py:571: ConvergenceWarning: Stochastic Optimizer: Maximum iterations (100) reached and the optimization hasn't converged yet.\n",
            "  % self.max_iter, ConvergenceWarning)\n",
            "/usr/local/lib/python3.7/dist-packages/sklearn/neural_network/_multilayer_perceptron.py:571: ConvergenceWarning: Stochastic Optimizer: Maximum iterations (100) reached and the optimization hasn't converged yet.\n",
            "  % self.max_iter, ConvergenceWarning)\n",
            "/usr/local/lib/python3.7/dist-packages/sklearn/neural_network/_multilayer_perceptron.py:571: ConvergenceWarning: Stochastic Optimizer: Maximum iterations (100) reached and the optimization hasn't converged yet.\n",
            "  % self.max_iter, ConvergenceWarning)\n",
            "/usr/local/lib/python3.7/dist-packages/sklearn/neural_network/_multilayer_perceptron.py:571: ConvergenceWarning: Stochastic Optimizer: Maximum iterations (100) reached and the optimization hasn't converged yet.\n",
            "  % self.max_iter, ConvergenceWarning)\n",
            "/usr/local/lib/python3.7/dist-packages/sklearn/neural_network/_multilayer_perceptron.py:571: ConvergenceWarning: Stochastic Optimizer: Maximum iterations (100) reached and the optimization hasn't converged yet.\n",
            "  % self.max_iter, ConvergenceWarning)\n",
            "/usr/local/lib/python3.7/dist-packages/sklearn/neural_network/_multilayer_perceptron.py:571: ConvergenceWarning: Stochastic Optimizer: Maximum iterations (100) reached and the optimization hasn't converged yet.\n",
            "  % self.max_iter, ConvergenceWarning)\n"
          ],
          "name": "stderr"
        }
      ]
    },
    {
      "cell_type": "code",
      "metadata": {
        "id": "Hkx4B81z1CQ4"
      },
      "source": [
        "pred_nn = best.predict_proba(X_test)\n",
        "auc_nn = metrics.roc_auc_score(y_test, pred_nn[:,1])"
      ],
      "execution_count": null,
      "outputs": []
    },
    {
      "cell_type": "code",
      "metadata": {
        "id": "IPrw8_1G6-qV"
      },
      "source": [
        "nn1 = MLPClassifier(hidden_layer_sizes=(11,11,11),max_iter=500, activation='relu', alpha = 1e-5, random_state=1)\n",
        "nn1.fit(X_train,y_train)\n",
        "pred_nn1 =  nn1.predict(X_test)"
      ],
      "execution_count": null,
      "outputs": []
    },
    {
      "cell_type": "code",
      "metadata": {
        "id": "kyruIvZC7a0r"
      },
      "source": [
        "pred_nn_prob = nn1.predict_proba(X_test)\n",
        "auc_nn1 = metrics.roc_auc_score(y_test, pred_nn_prob[:,1])"
      ],
      "execution_count": null,
      "outputs": []
    },
    {
      "cell_type": "code",
      "metadata": {
        "colab": {
          "base_uri": "https://localhost:8080/"
        },
        "id": "w8I_oJb97pD3",
        "outputId": "081a5b45-151d-4b7c-9c46-7a24c82b8397"
      },
      "source": [
        "print(auc_nn)"
      ],
      "execution_count": null,
      "outputs": [
        {
          "output_type": "stream",
          "text": [
            "0.8455197342339301\n"
          ],
          "name": "stdout"
        }
      ]
    },
    {
      "cell_type": "code",
      "metadata": {
        "colab": {
          "base_uri": "https://localhost:8080/"
        },
        "id": "W09mR-MC740S",
        "outputId": "ba20cac9-3af5-4211-86b9-c4dfa5892924"
      },
      "source": [
        "pred_nn2 = best.predict(X_test)\n",
        "print(metrics.precision_recall_fscore_support(y_test, pred_nn2))"
      ],
      "execution_count": null,
      "outputs": [
        {
          "output_type": "stream",
          "text": [
            "(array([0.95094568, 0.516     ]), array([0.98913043, 0.18507891]), array([0.96966228, 0.27243928]), array([11132,   697]))\n"
          ],
          "name": "stdout"
        }
      ]
    },
    {
      "cell_type": "code",
      "metadata": {
        "id": "2pwfRdkOQfzY",
        "colab": {
          "base_uri": "https://localhost:8080/",
          "height": 369
        },
        "outputId": "85d96bdd-c6ba-4847-eb69-2203e8e14567"
      },
      "source": [
        "Y = [auc_svm, auc_k, auc_rf, auc_nb, auc_nn]\n",
        "X = ['SVM', 'KNN', 'RF', 'NB', 'NN']\n",
        "\n",
        "fig = plt.figure()\n",
        "ax = fig.add_axes([0,0,1,1])\n",
        "ax.bar(X, Y)\n",
        "plt.ylabel('AUC')\n",
        "plt.title('Bar plot indicating the AUC for the various algorithms used')"
      ],
      "execution_count": null,
      "outputs": [
        {
          "output_type": "execute_result",
          "data": {
            "text/plain": [
              "Text(0.5, 1.0, 'Bar plot indicating the AUC for the various algorithms used')"
            ]
          },
          "metadata": {
            "tags": []
          },
          "execution_count": 78
        },
        {
          "output_type": "display_data",
          "data": {
            "image/png": "[encoded data removed]",
            "text/plain": [
              "<Figure size 432x288 with 1 Axes>"
            ]
          },
          "metadata": {
            "tags": [],
            "needs_background": "light"
          }
        }
      ]
    }
  ]
}